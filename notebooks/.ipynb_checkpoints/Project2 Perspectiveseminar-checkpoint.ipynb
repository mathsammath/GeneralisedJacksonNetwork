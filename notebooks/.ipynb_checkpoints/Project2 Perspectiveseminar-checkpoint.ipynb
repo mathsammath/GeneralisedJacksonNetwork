{
 "cells": [
  {
   "cell_type": "markdown",
   "metadata": {},
   "source": [
    "### Perspective Seminar\n"
   ]
  },
  {
   "cell_type": "markdown",
   "metadata": {},
   "source": [
    "Similarly to Mehita, Anna grew up in a mathematical family with both of her parents being mathematicians turned software engineers. From a young age, Anna was facinated by software and simulation. However, she studied pure mathematics whilst in germany. Interestingly, her thesis was in analysis, in particular, the Heisenberg group and regulating theory. After completing her PhD, she left both pure mathematics and german to work in simulation in Brisbane. Her forst role was with 'The Simulation Group' (TSG). She likened the job to plaing games suchas simcity. Most of her work with TSG involved working in the mining sector which seems to be something common for mathematicians in industry. Due to her abilities, she was able to acquire an almost entrepeneural role with anylogic, the software primarily used by TSG. This role took up about 20% of her time. Once TSG was bought by Boston Analytics, Anna left the company as she was unwilling to go into big consulting. This lead her to 'Integrated Logistics Company'. At this role, she currently works with simulating transport of coal in North Queensland. In this role, she not only has to create the simulations but she also has to be able to interpret them. This is a crucial part of her role. She must create a variety of graphs and figures whilst using statistical methods in order to determine solutions to the logistical problems facing the QLD Government. In doing so, she must work with subject matter specialist which she finds both informative and sometimes frustrating. Overall, Anna appears to love her job based on her long term passion for simulation and problem solving. It was interesting to see her transition from the pure mathematics of analysis to the industry of software with the focus of simulation. "
   ]
  },
  {
   "cell_type": "markdown",
   "metadata": {},
   "source": [
    "## Simulation Script"
   ]
  },
  {
   "cell_type": "code",
   "execution_count": 1,
   "metadata": {},
   "outputs": [
    {
     "name": "stderr",
     "output_type": "stream",
     "text": [
      "\u001b[32m\u001b[1m  Activating\u001b[22m\u001b[39m project at `C:\\Users\\samue\\MATH2504\\Project2\\Samuel-Dick__Patrick-Schmidt-2504-2023-PROJECT2`"
     ]
    },
    {
     "name": "stdout",
     "output_type": "stream",
     "text": [
      "The main simulation function, sim_net, requires a network parameter as an arguement.\n",
      "This repo has four network paramter scenarios, named scenario1, scenario2 etc.\n",
      "When we run the simulation function with one of these scenarios, the simulation will run for a \n",
      "default time of 10^6 seconds, recording relevant statistics for estimated total mean queue length only\n",
      "after a 'warm up time' of 10^4 seconds.\n",
      "\n",
      "The paramters of scenario1 are given by\n"
     ]
    },
    {
     "name": "stderr",
     "output_type": "stream",
     "text": [
      "\n"
     ]
    },
    {
     "name": "stdout",
     "output_type": "stream",
     "text": [
      "NetworkParameters\n",
      "  L: Int64 3\n",
      "  α_vector: Array{Float64}((3,)) [0.5, 0.0, 0.0]\n",
      "  μ_vector: Array{Float64}((3,)) [1.0, 1.0, 1.0]\n",
      "  P: Array{Float64}((3, 3)) [0.0 1.0 0.0; 0.0 0.0 1.0; 0.0 0.0 0.0]\n",
      "  c_s: Float64 1.0\n",
      "  γ₁: Float64 1.0e-8\n",
      "  γ₂: Float64 1.0\n",
      "\n",
      "When we run the simulation for scenario1, we return three pieces of information:\n",
      "    (1) The estimated total mean queue length\n",
      "    (2) The total 'on' times of each server\n",
      "    (3) The total arrivals to each server\n",
      "\n",
      "Running the simulation for scenario1 we have\n",
      "(2.97360449206773, [1.0e6, 1.0e6, 1.0e6], [499985.0, 499985.0, 499986.0])\n",
      "\n",
      "The simulation can handle servers breaking down. We can change the parameters\n",
      "of scenario1 to have breakdowns.\n",
      "NetworkParameters\n",
      "  L: Int64 3\n",
      "  α_vector: Array{Float64}((3,)) [0.1, 0.0, 0.0]\n",
      "  μ_vector: Array{Float64}((3,)) [1.0, 1.0, 1.0]\n",
      "  P: Array{Float64}((3, 3)) [0.0 1.0 0.0; 0.0 0.0 1.0; 0.0 0.0 0.0]\n",
      "  c_s: Float64 0.5\n",
      "  γ₁: Float64 4.0\n",
      "  γ₂: Float64 1.0\n",
      "\n",
      "The output of the simulation will change when we have breakdowns.\n",
      "(3.1143492318494004, [199933.29728273454, 200083.57724986528, 199801.17880435288], [99884.0, 99885.0, 99886.0])\n"
     ]
    }
   ],
   "source": [
    "using Pkg\n",
    "cd(\"C:\\\\Users\\\\samue\\\\MATH2504\\\\Project2\\\\Samuel-Dick__Patrick-Schmidt-2504-2023-PROJECT2\")\n",
    "Pkg.activate(\".\")\n",
    "include(\"GeneralizedUnreliableJacksonSim.jl\")\n",
    "\n",
    "\n",
    "println(\"The main simulation function, sim_net, requires a network parameter as an arguement.\")\n",
    "println(\"This repo has four network paramter scenarios, named scenario1, scenario2 etc.\")\n",
    "println(\"When we run the simulation function with one of these scenarios, the simulation will run for a \")\n",
    "println(\"default time of 10^6 seconds, recording relevant statistics for estimated total mean queue length only\")\n",
    "println(\"after a 'warm up time' of 10^4 seconds.\")\n",
    "println()\n",
    "\n",
    "println(\"The paramters of scenario1 are given by\")\n",
    "println(scenario1)\n",
    "\n",
    "println(\"When we run the simulation for scenario1, we return three pieces of information:\")\n",
    "println(\"    (1) The estimated total mean queue length\")\n",
    "println(\"    (2) The total 'on' times of each server\")\n",
    "println(\"    (3) The total arrivals to each server\")\n",
    "println()\n",
    "\n",
    "println(\"Running the simulation for scenario1 we have\")\n",
    "println(sim_net(scenario1))\n",
    "println()\n",
    "\n",
    "println(\"The simulation can handle servers breaking down. We can change the parameters\")\n",
    "println(\"of scenario1 to have breakdowns.\")\n",
    "new_scenario = set_scenario(scenario1, 0.5, 0.5, 0.2)\n",
    "println(new_scenario)\n",
    "\n",
    "println(\"The output of the simulation will change when we have breakdowns.\")\n",
    "println(sim_net(new_scenario))"
   ]
  }
 ],
 "metadata": {
  "kernelspec": {
   "display_name": "Julia 1.9.2",
   "language": "julia",
   "name": "julia-1.9"
  },
  "language_info": {
   "file_extension": ".jl",
   "mimetype": "application/julia",
   "name": "julia",
   "version": "1.9.2"
  }
 },
 "nbformat": 4,
 "nbformat_minor": 2
}
