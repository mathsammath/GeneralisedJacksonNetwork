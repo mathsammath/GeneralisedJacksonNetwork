{
 "cells": [
  {
   "cell_type": "markdown",
   "metadata": {},
   "source": [
    "### Perspective Seminar\n"
   ]
  },
  {
   "cell_type": "markdown",
   "metadata": {},
   "source": [
    "Similarly to Mehita, Anna grew up in a mathematical family with both of her parents being mathematicians turned software engineers. From a young age, Anna was facinated by software and simulation. However, she studied pure mathematics whilst in germany. Interestingly, her thesis was in analysis, in particular, the Heisenberg group and regulating theory. After completing her PhD, she left both pure mathematics and german to work in simulation in Brisbane. Her forst role was with 'The Simulation Group' (TSG). She likened the job to plaing games suchas simcity. Most of her work with TSG involved working in the mining sector which seems to be something common for mathematicians in industry. Due to her abilities, she was able to acquire an almost entrepeneural role with anylogic, the software primarily used by TSG. This role took up about 20% of her time. Once TSG was bought by Boston Analytics, Anna left the company as she was unwilling to go into big consulting. This lead her to 'Integrated Logistics Company'. At this role, she currently works with simulating transport of coal in North Queensland. In this role, she not only has to create the simulations but she also has to be able to interpret them. This is a crucial part of her role. She must create a variety of graphs and figures whilst using statistical methods in order to determine solutions to the logistical problems facing the QLD Government. In doing so, she must work with subject matter specialist which she finds both informative and sometimes frustrating. Overall, Anna appears to love her job based on her long term passion for simulation and problem solving. It was interesting to see her transition from the pure mathematics of analysis to the industry of software with the focus of simulation. "
   ]
  },
  {
   "cell_type": "markdown",
   "metadata": {},
   "source": []
  }
 ],
 "metadata": {
  "language_info": {
   "name": "python"
  }
 },
 "nbformat": 4,
 "nbformat_minor": 2
}
