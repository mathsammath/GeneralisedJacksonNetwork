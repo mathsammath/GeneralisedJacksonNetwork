{
 "cells": [
  {
   "cell_type": "markdown",
   "id": "f1229bac",
   "metadata": {},
   "source": [
    "## Task 1"
   ]
  },
  {
   "cell_type": "markdown",
   "id": "9b6d1c64",
   "metadata": {},
   "source": [
    "-  Time taken to change between queues. Jobs will not instantaneously change nodes as people have to travel around the amusement park. \n",
    "-  Queues cannot have infinite capacity. In reality, people are put off my long queues and this variable is not accounted for in the model. \n",
    "-  Breakdown's of rides at amusement parks are going to be very rare most likely. You could model it as a Jackson Generalised without Breakdowns.\n",
    "-  Services and arrival rates will change dramatically throughout a day, and throughout a week. Rates will certainly not be constant."
   ]
  }
 ],
 "metadata": {
  "kernelspec": {
   "display_name": "Julia 1.9.2",
   "language": "julia",
   "name": "julia-1.9"
  },
  "language_info": {
   "file_extension": ".jl",
   "mimetype": "application/julia",
   "name": "julia",
   "version": "1.9.2"
  }
 },
 "nbformat": 4,
 "nbformat_minor": 5
}
