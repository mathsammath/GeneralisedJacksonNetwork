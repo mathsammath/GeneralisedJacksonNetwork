{
 "cells": [
  {
   "cell_type": "markdown",
   "id": "2cb7bd1d",
   "metadata": {},
   "source": [
    "## Task 5"
   ]
  },
  {
   "cell_type": "markdown",
   "id": "c57fc3d5",
   "metadata": {},
   "source": [
    "To begin, a folder was added to the src folder named sojourn. Within this folder, two files were added: tandem_netowrk and sojourn_engine. Within tandem_network, the framework built for the original simulation network was implemented and adjusted for this new case. The fields for QueueNetworkState (Line 54) were changed to keep track of individual jobs in the system."
   ]
  },
  {
   "cell_type": "code",
   "execution_count": null,
   "id": "a4699640",
   "metadata": {},
   "outputs": [],
   "source": [
    "mutable struct QueueNetworkState <: State \n",
    "    jobs_num::Vector{Vector{Int}} # Jobs in each queue. \n",
    "    params::NetworkParameters # Parameters of queue network system\n",
    "end "
   ]
  },
  {
   "cell_type": "markdown",
   "id": "c038c5b4",
   "metadata": {},
   "source": [
    "We will then treat the jobs as a vector of vectors. Each inner vector being the queue where jobs are being served, and at these queues are the individual jobs, labeled by integers. We intend to label jobs with integers as they enter the system. To assist with this, we can introduce two global variables to keep track of the total job arrivals, as well as the total jobs currently in the system."
   ]
  },
  {
   "cell_type": "code",
   "execution_count": null,
   "id": "fbe78f0d",
   "metadata": {},
   "outputs": [],
   "source": [
    "global new_job = 0\n",
    "global total_jobs = 0 \n",
    "global Dict{Int, boolean}()"
   ]
  },
  {
   "cell_type": "markdown",
   "id": "89aac110",
   "metadata": {},
   "source": [
    "This last variable will be a dictionary of all the jobs in the system. They value (boolean) associated with a key (job) will be true only if the job is in the system. "
   ]
  },
  {
   "cell_type": "markdown",
   "id": "8062a8dc",
   "metadata": {},
   "source": [
    "Processing an event for an external arrival was re-written for this scenario (Line 131)."
   ]
  },
  {
   "cell_type": "code",
   "execution_count": null,
   "id": "8bc14b4e",
   "metadata": {},
   "outputs": [],
   "source": [
    "\"\"\"\n",
    "Process external arrival events that occur initially in the system.\n",
    "\"\"\"\n",
    "function process_event(time::Float64, state::State, ext_event::ExternalArrivalEvent) \n",
    "    q = ext_event.next_q # Queue where job is added \n",
    "\n",
    "    new_job += 1 #there is a new job in the system\n",
    "    total_jobs += 1\n",
    "    dict_jobs[total_jobs] = true #add job to jobs dictionary for system\n",
    "    push!(state.jobs_num[q], new_job) # Add job to queue \n",
    "    \n",
    "    new_timed_events = TimedEvent[] # Record a new timed event \n",
    "    # Prepare for next arrival\n",
    "    push!(new_timed_events, TimedEvent(ExternalArrivalEvent(q), \n",
    "                                        time + next_arrival_duration(state, q)))\n",
    "    # Start new service event, since this will always be first job in queue \n",
    "    # If this job is only job in queue then start new service event \n",
    "    lenght(state.jobs_num[q]) == 1 && push!(new_timed_events, TimedEvent(EndOfServiceAtQueueEvent(q, nothing), \n",
    "                                                    time + next_service_duration(state, q)))\n",
    "    return new_timed_events\n",
    "end "
   ]
  }
 ],
 "metadata": {
  "kernelspec": {
   "display_name": "Julia 1.9.2",
   "language": "julia",
   "name": "julia-1.9"
  },
  "language_info": {
   "file_extension": ".jl",
   "mimetype": "application/julia",
   "name": "julia",
   "version": "1.9.2"
  }
 },
 "nbformat": 4,
 "nbformat_minor": 5
}
